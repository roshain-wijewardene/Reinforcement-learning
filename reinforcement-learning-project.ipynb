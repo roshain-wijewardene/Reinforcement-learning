{
  "nbformat": 4,
  "nbformat_minor": 0,
  "metadata": {
    "colab": {
      "provenance": [],
      "authorship_tag": "ABX9TyN69O1mTxNVU50hbDnTWXY8",
      "include_colab_link": true
    },
    "kernelspec": {
      "name": "python3",
      "display_name": "Python 3"
    },
    "language_info": {
      "name": "python"
    }
  },
  "cells": [
    {
      "cell_type": "markdown",
      "metadata": {
        "id": "view-in-github",
        "colab_type": "text"
      },
      "source": [
        "<a href=\"https://colab.research.google.com/github/roshain-wijewardene/Reinforcement-learning/blob/main/reinforcement-learning-project.ipynb\" target=\"_parent\"><img src=\"https://colab.research.google.com/assets/colab-badge.svg\" alt=\"Open In Colab\"/></a>"
      ]
    },
    {
      "cell_type": "markdown",
      "metadata": {
        "id": "L-4bi8BeIaau"
      },
      "source": [
        "# CS 3120 - Machine Learning and Neural Computing\n",
        "\n",
        "**Reinforcement Learning - Part 03**\n",
        "\n",
        "*   Name : D. R. R. Wijewardene\n",
        "*   Index Number : S14245\n",
        "*   Faculty : Science (Bioinformatics)"
      ]
    },
    {
      "cell_type": "markdown",
      "metadata": {
        "id": "P7snbHjqvUpy"
      },
      "source": [
        "# **Exercise**"
      ]
    },
    {
      "cell_type": "code",
      "metadata": {
        "id": "RMzlJKdP79Dn"
      },
      "source": [
        "import numpy as np"
      ],
      "execution_count": null,
      "outputs": []
    },
    {
      "cell_type": "markdown",
      "metadata": {
        "id": "pWgBvnH1BLQy"
      },
      "source": [
        "# States and Actions of the maze"
      ]
    },
    {
      "cell_type": "markdown",
      "metadata": {
        "id": "G7bOi1z9sQ5w"
      },
      "source": [
        "**State = Row Index**\n",
        "\n",
        "*   (0,0) = 0 **START**\n",
        "*   (0,1) = 1\n",
        "*   (0,2) = 2\n",
        "*   (0,3) = 3\n",
        "*   (-1,-1) = 4\n",
        "*   (-1,2) = 5\n",
        "*   (-1,3) = 6\n",
        "*   (1,1) = 7\n",
        "*   (1,2) = 8\n",
        "*   (2,-1) = 9\n",
        "*   (2,1) = 10\n",
        "*   (2,2) = 11\n",
        "*   (3,2) = 12\n",
        "*   (3,3) = 13\n",
        "*   (3,1) = 14 **END (Goal)**\n",
        "\n",
        "\n"
      ]
    },
    {
      "cell_type": "code",
      "metadata": {
        "id": "kVlqtipkElOr"
      },
      "source": [
        "rows = 15"
      ],
      "execution_count": null,
      "outputs": []
    },
    {
      "cell_type": "markdown",
      "metadata": {
        "id": "3kQTCoZwtow1"
      },
      "source": [
        "**Action = Column Index**\n",
        "\n",
        "*   Up = 0\n",
        "*   Down = 1\n",
        "*   Left = 2\n",
        "*   Right = 3"
      ]
    },
    {
      "cell_type": "code",
      "metadata": {
        "id": "O4bAe1AjE0l_"
      },
      "source": [
        "columns = 4"
      ],
      "execution_count": null,
      "outputs": []
    },
    {
      "cell_type": "markdown",
      "metadata": {
        "id": "FMwuoV0_uZdX"
      },
      "source": [
        "# State Transitions\n",
        "\n",
        "State vs Action -> Next State"
      ]
    },
    {
      "cell_type": "code",
      "metadata": {
        "colab": {
          "base_uri": "https://localhost:8080/"
        },
        "id": "P_aHOTiesBrM",
        "outputId": "62c41fa2-a6c1-4c9e-93ba-95984fefb16a"
      },
      "source": [
        "path = np.matrix([[1,-1,-1,-1],[2,0,-1,7],[3,1,-1,8],[-1,2,6,-1],[5,-1,-1,9],[6,4,-1,-1],[-1,5,-1,3],[8,-1,1,10],[-1,7,2,11],[10,-1,4,-1],[11,9,7,14],[-1,10,8,12],[13,-1,11,-1],[-1,12,-1,-1],[-1,-1,10,-1]])\n",
        "path"
      ],
      "execution_count": null,
      "outputs": [
        {
          "output_type": "execute_result",
          "data": {
            "text/plain": [
              "matrix([[ 1, -1, -1, -1],\n",
              "        [ 2,  0, -1,  7],\n",
              "        [ 3,  1, -1,  8],\n",
              "        [-1,  2,  6, -1],\n",
              "        [ 5, -1, -1,  9],\n",
              "        [ 6,  4, -1, -1],\n",
              "        [-1,  5, -1,  3],\n",
              "        [ 8, -1,  1, 10],\n",
              "        [-1,  7,  2, 11],\n",
              "        [10, -1,  4, -1],\n",
              "        [11,  9,  7, 14],\n",
              "        [-1, 10,  8, 12],\n",
              "        [13, -1, 11, -1],\n",
              "        [-1, 12, -1, -1],\n",
              "        [-1, -1, 10, -1]])"
            ]
          },
          "metadata": {},
          "execution_count": 7
        }
      ]
    },
    {
      "cell_type": "markdown",
      "metadata": {
        "id": "I0oIQz0MDWCP"
      },
      "source": [
        "# Reward\n",
        "\n",
        "**Reward for reaching each state**"
      ]
    },
    {
      "cell_type": "code",
      "metadata": {
        "colab": {
          "base_uri": "https://localhost:8080/"
        },
        "id": "EJeM21WNDGMl",
        "outputId": "6669b55e-a68c-44dd-aa7c-4c150f9b2445"
      },
      "source": [
        "State_reward = np.matrix([[0],[0],[0],[0],[0],[0],[0],[0],[0],[0],[0],[0],[0],[0],[100]])\n",
        "State_reward"
      ],
      "execution_count": null,
      "outputs": [
        {
          "output_type": "execute_result",
          "data": {
            "text/plain": [
              "matrix([[  0],\n",
              "        [  0],\n",
              "        [  0],\n",
              "        [  0],\n",
              "        [  0],\n",
              "        [  0],\n",
              "        [  0],\n",
              "        [  0],\n",
              "        [  0],\n",
              "        [  0],\n",
              "        [  0],\n",
              "        [  0],\n",
              "        [  0],\n",
              "        [  0],\n",
              "        [100]])"
            ]
          },
          "metadata": {},
          "execution_count": 9
        }
      ]
    },
    {
      "cell_type": "markdown",
      "metadata": {
        "id": "vIRNgjcrD9Ob"
      },
      "source": [
        "# Q table"
      ]
    },
    {
      "cell_type": "markdown",
      "metadata": {
        "id": "3iujtLn6EP61"
      },
      "source": [
        "**Initial Q table**"
      ]
    },
    {
      "cell_type": "code",
      "metadata": {
        "colab": {
          "base_uri": "https://localhost:8080/"
        },
        "id": "08XnOXcjEN3q",
        "outputId": "f4dd441c-997d-4c83-af37-3f564e5a74eb"
      },
      "source": [
        "Q = np.matrix(np.zeros([rows,columns]))\n",
        "Q"
      ],
      "execution_count": null,
      "outputs": [
        {
          "output_type": "execute_result",
          "data": {
            "text/plain": [
              "matrix([[0., 0., 0., 0.],\n",
              "        [0., 0., 0., 0.],\n",
              "        [0., 0., 0., 0.],\n",
              "        [0., 0., 0., 0.],\n",
              "        [0., 0., 0., 0.],\n",
              "        [0., 0., 0., 0.],\n",
              "        [0., 0., 0., 0.],\n",
              "        [0., 0., 0., 0.],\n",
              "        [0., 0., 0., 0.],\n",
              "        [0., 0., 0., 0.],\n",
              "        [0., 0., 0., 0.],\n",
              "        [0., 0., 0., 0.],\n",
              "        [0., 0., 0., 0.],\n",
              "        [0., 0., 0., 0.],\n",
              "        [0., 0., 0., 0.]])"
            ]
          },
          "metadata": {},
          "execution_count": 10
        }
      ]
    },
    {
      "cell_type": "markdown",
      "metadata": {
        "id": "WUo2xr7e6Etg"
      },
      "source": [
        "# Exploration\n",
        "*when sequences are given*"
      ]
    },
    {
      "cell_type": "markdown",
      "metadata": {
        "id": "xKZ3WbiXHcev"
      },
      "source": [
        "**Episodes**\n",
        "\n",
        "1.   Start = (0, 0) -> **0**\n",
        "> Actions: UP, RIGHT, RIGHT, RIGHT\n",
        "2.   Start = (0, 2) -> **2**\n",
        "> Actions: DOWN, RIGHT, UP, RIGHT, DOWN, RIGHT\n",
        "3.   Start = (1, 2) -> **8**\n",
        "> Actions: DOWN, RIGHT, RIGHT"
      ]
    },
    {
      "cell_type": "code",
      "metadata": {
        "colab": {
          "base_uri": "https://localhost:8080/"
        },
        "id": "sYrb8XNCHgrG",
        "outputId": "9ac11816-483d-485d-ee53-6eb4e80b5a0e"
      },
      "source": [
        "# Initial States of each episode\n",
        "\n",
        "epi_initial = np.array([[0],[2],[8]])\n",
        "epi_initial"
      ],
      "execution_count": null,
      "outputs": [
        {
          "output_type": "execute_result",
          "data": {
            "text/plain": [
              "array([[0],\n",
              "       [2],\n",
              "       [8]])"
            ]
          },
          "metadata": {},
          "execution_count": 11
        }
      ]
    },
    {
      "cell_type": "code",
      "metadata": {
        "colab": {
          "base_uri": "https://localhost:8080/"
        },
        "id": "zFj8XxY4NWYk",
        "outputId": "c1092ac1-96b9-4d78-c0ad-a89812930a18"
      },
      "source": [
        "# Path of each episode\n",
        "\n",
        "epi_path = np.array([[0,3,3,3],[1,3,0,3,1,3],[1,3,3]],dtype=object)\n",
        "epi_path"
      ],
      "execution_count": null,
      "outputs": [
        {
          "output_type": "execute_result",
          "data": {
            "text/plain": [
              "array([list([0, 3, 3, 3]), list([1, 3, 0, 3, 1, 3]), list([1, 3, 3])],\n",
              "      dtype=object)"
            ]
          },
          "metadata": {},
          "execution_count": 12
        }
      ]
    },
    {
      "cell_type": "markdown",
      "metadata": {
        "id": "FvtejiDMGThS"
      },
      "source": [
        "**Updating the Q table**"
      ]
    },
    {
      "cell_type": "code",
      "metadata": {
        "colab": {
          "base_uri": "https://localhost:8080/"
        },
        "id": "p5C9b1rNOeTE",
        "outputId": "b3276013-4f37-4719-f1aa-e7cdb2d045fa"
      },
      "source": [
        "gamma = 0.8   # learning rate\n",
        "\n",
        "epi = 0       # initial episode\n",
        "\n",
        "while epi < 3:\n",
        "  for a in epi_path:\n",
        "    state_A = epi_initial[epi][0]\n",
        "    for b in a:\n",
        "      state_B = path[state_A , b]\n",
        "\n",
        "      max_index = np.where(Q[state_B,] == np.max(Q[state_B,]))[1]\n",
        "\n",
        "      if max_index.shape[0] > 1:\n",
        "        max_index = int(np.random.choice(max_index, size=1))\n",
        "      else:\n",
        "        max_index = int(max_index)\n",
        "\n",
        "      max_value = Q[state_B, max_index]\n",
        "\n",
        "      reward = State_reward[state_B , 0]\n",
        "\n",
        "      Q[state_A, b] = reward + gamma * max_value    # Q update rule\n",
        "      print('Max_value', reward + gamma * max_value)\n",
        "\n",
        "      if (np.max(Q) > 0):\n",
        "        print(np.sum(Q / np.max(Q)*100))\n",
        "      else:\n",
        "        print(0)\n",
        "\n",
        "      state_A = state_B\n",
        "\n",
        "    epi = epi + 1\n",
        "    print(Q / np.max(Q)*100)"
      ],
      "execution_count": null,
      "outputs": [
        {
          "output_type": "stream",
          "text": [
            "Max_value 0.0\n",
            "0\n",
            "Max_value 0.0\n",
            "0\n",
            "Max_value 0.0\n",
            "0\n",
            "Max_value 100.0\n",
            "100.0\n",
            "[[  0.   0.   0.   0.]\n",
            " [  0.   0.   0.   0.]\n",
            " [  0.   0.   0.   0.]\n",
            " [  0.   0.   0.   0.]\n",
            " [  0.   0.   0.   0.]\n",
            " [  0.   0.   0.   0.]\n",
            " [  0.   0.   0.   0.]\n",
            " [  0.   0.   0.   0.]\n",
            " [  0.   0.   0.   0.]\n",
            " [  0.   0.   0.   0.]\n",
            " [  0.   0.   0. 100.]\n",
            " [  0.   0.   0.   0.]\n",
            " [  0.   0.   0.   0.]\n",
            " [  0.   0.   0.   0.]\n",
            " [  0.   0.   0.   0.]]\n",
            "Max_value 0.0\n",
            "100.0\n",
            "Max_value 0.0\n",
            "100.0\n",
            "Max_value 0.0\n",
            "100.0\n",
            "Max_value 0.0\n",
            "100.0\n",
            "Max_value 80.0\n",
            "180.0\n",
            "Max_value 100.0\n",
            "180.0\n",
            "[[  0.   0.   0.   0.]\n",
            " [  0.   0.   0.   0.]\n",
            " [  0.   0.   0.   0.]\n",
            " [  0.   0.   0.   0.]\n",
            " [  0.   0.   0.   0.]\n",
            " [  0.   0.   0.   0.]\n",
            " [  0.   0.   0.   0.]\n",
            " [  0.   0.   0.   0.]\n",
            " [  0.   0.   0.   0.]\n",
            " [  0.   0.   0.   0.]\n",
            " [  0.   0.   0. 100.]\n",
            " [  0.  80.   0.   0.]\n",
            " [  0.   0.   0.   0.]\n",
            " [  0.   0.   0.   0.]\n",
            " [  0.   0.   0.   0.]]\n",
            "Max_value 0.0\n",
            "180.0\n",
            "Max_value 80.0\n",
            "260.0\n",
            "Max_value 100.0\n",
            "260.0\n",
            "[[  0.   0.   0.   0.]\n",
            " [  0.   0.   0.   0.]\n",
            " [  0.   0.   0.   0.]\n",
            " [  0.   0.   0.   0.]\n",
            " [  0.   0.   0.   0.]\n",
            " [  0.   0.   0.   0.]\n",
            " [  0.   0.   0.   0.]\n",
            " [  0.   0.   0.  80.]\n",
            " [  0.   0.   0.   0.]\n",
            " [  0.   0.   0.   0.]\n",
            " [  0.   0.   0. 100.]\n",
            " [  0.  80.   0.   0.]\n",
            " [  0.   0.   0.   0.]\n",
            " [  0.   0.   0.   0.]\n",
            " [  0.   0.   0.   0.]]\n"
          ],
          "name": "stdout"
        }
      ]
    },
    {
      "cell_type": "markdown",
      "metadata": {
        "id": "5armRI9obad6"
      },
      "source": [
        "**Trained Q-table (after 3 given episodes)**"
      ]
    },
    {
      "cell_type": "code",
      "metadata": {
        "colab": {
          "base_uri": "https://localhost:8080/"
        },
        "id": "K74uN9afbiFT",
        "outputId": "b94b0727-34e4-473f-dc8a-d5fab0d92a0d"
      },
      "source": [
        "print(\"Q table after 3 given episodes : \")\n",
        "print(Q/np.max(Q)*100)"
      ],
      "execution_count": null,
      "outputs": [
        {
          "output_type": "stream",
          "text": [
            "Q table after 3 given episodes : \n",
            "[[  0.   0.   0.   0.]\n",
            " [  0.   0.   0.   0.]\n",
            " [  0.   0.   0.   0.]\n",
            " [  0.   0.   0.   0.]\n",
            " [  0.   0.   0.   0.]\n",
            " [  0.   0.   0.   0.]\n",
            " [  0.   0.   0.   0.]\n",
            " [  0.   0.   0.  80.]\n",
            " [  0.   0.   0.   0.]\n",
            " [  0.   0.   0.   0.]\n",
            " [  0.   0.   0. 100.]\n",
            " [  0.  80.   0.   0.]\n",
            " [  0.   0.   0.   0.]\n",
            " [  0.   0.   0.   0.]\n",
            " [  0.   0.   0.   0.]]\n"
          ],
          "name": "stdout"
        }
      ]
    },
    {
      "cell_type": "markdown",
      "metadata": {
        "id": "jXlSwEtd5pMP"
      },
      "source": [
        "# Exploitation\n",
        "\n",
        "*When*\n",
        "> Initial state is (0,0) -> index 0\n",
        "\n",
        "> Goal state  = (3,1) -> 14"
      ]
    },
    {
      "cell_type": "code",
      "metadata": {
        "colab": {
          "base_uri": "https://localhost:8080/"
        },
        "id": "v8_COf737Xex",
        "outputId": "606b2fd1-27db-4ea6-b587-a580a6fe8967"
      },
      "source": [
        "current_state = 0\n",
        "goal_state = 14\n",
        "\n",
        "most_efficient_path =[]\n",
        "\n",
        "\n",
        "while current_state != goal_state:\n",
        "\n",
        "    next_state_index = np.where(Q[current_state,] == np.max(Q[current_state,]))[1]\n",
        "\n",
        "    if next_state_index.shape[0] > 1:\n",
        "        next_state_index = int(np.random.choice(next_state_index, size = 1))\n",
        "    else:\n",
        "        next_state_index = int(next_state_index)\n",
        "\n",
        "\n",
        "    next_state = path[current_state,next_state_index]\n",
        "\n",
        "\n",
        "    if next_state != -1:\n",
        "      most_efficient_path.extend([next_state_index])\n",
        "\n",
        "\n",
        "      current_state = next_state\n",
        "\n",
        "    else:\n",
        "\n",
        "      current_state =current_state\n",
        "\n",
        "print(\"Indexes of ACTIONS :\\nUP \\t= 0\\nDOWN \\t= 1\\nLEFT \\t= 2\\nRIGHT \\t= 3\")\n",
        "print(\"\")\n",
        "\n",
        "print(\"Goal state = (3,1) -> Index 14\")\n",
        "print(\"\")\n",
        "\n",
        "print(\"Trained Episodes :\")\n",
        "print(\"\")\n",
        "\n",
        "print(\"Episode 1 : \\tStart = (0,0) -> Index 0 ; \\tActions: UP, RIGHT, RIGHT, RIGHT\\nEpisode 2 : \\tStart = (0,2) -> Index 2 ; \\tActions: DOWN, RIGHT, UP, RIGHT, DOWN, RIGHT\\nEpisode 3 : \\tStart = (1,2) -> Index 8 ; \\tActions: DOWN, RIGHT, RIGHT\")\n",
        "print(\"\")\n",
        "\n",
        "print(\"Exploitation :\")\n",
        "print(\"\")\n",
        "\n",
        "print(\"when the Start State is (0,0) -> Index 0 ,\")\n",
        "\n",
        "print(\"\\t\\t The Actions to follow the Most Efficient Path towards the Goal State  :\\t\",most_efficient_path)"
      ],
      "execution_count": null,
      "outputs": [
        {
          "output_type": "stream",
          "text": [
            "Indexes of ACTIONS :\n",
            "UP \t= 0\n",
            "DOWN \t= 1\n",
            "LEFT \t= 2\n",
            "RIGHT \t= 3\n",
            "\n",
            "Goal state = (3,1) -> Index 14\n",
            "\n",
            "Trained Episodes :\n",
            "\n",
            "Episode 1 : \tStart = (0,0) -> Index 0 ; \tActions: UP, RIGHT, RIGHT, RIGHT\n",
            "Episode 2 : \tStart = (0,2) -> Index 2 ; \tActions: DOWN, RIGHT, UP, RIGHT, DOWN, RIGHT\n",
            "Episode 3 : \tStart = (1,2) -> Index 8 ; \tActions: DOWN, RIGHT, RIGHT\n",
            "\n",
            "Exploitation :\n",
            "\n",
            "when the Start State is (0,0) -> Index 0 ,\n",
            "\t\t The Actions to follow the Most Efficient Path towards the Goal State  :\t [0, 3, 3, 3]\n"
          ],
          "name": "stdout"
        }
      ]
    }
  ]
}